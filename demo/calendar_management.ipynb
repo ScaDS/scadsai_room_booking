{
 "cells": [
  {
   "cell_type": "markdown",
   "id": "1ef1ac1f-037b-4077-b99d-21e7b91dc149",
   "metadata": {},
   "source": [
    "# Room Booking API Demo\n",
    "In this notebook we take a look at the internal (!) API of `scads_room_booking`. With the functions demonstrated here, you can read out which rooms are booked today and you can add new bookings."
   ]
  },
  {
   "cell_type": "code",
   "execution_count": 1,
   "id": "6cbdafb5-ab5d-42e4-a0ff-e16891125411",
   "metadata": {},
   "outputs": [],
   "source": [
    "import caldav\n",
    "from datetime import datetime, timedelta\n",
    "\n",
    "from scadsai_room_booking._utilities import parse_location, parse_owner, parse_description, list_room_bookings_today, book_room\n",
    "from scadsai_room_booking._config import get_calendar, list_all_rooms"
   ]
  },
  {
   "cell_type": "code",
   "execution_count": 2,
   "id": "a2b742e9-7f11-41d3-bd33-25e00c2af806",
   "metadata": {},
   "outputs": [],
   "source": [
    "calendar = get_calendar()"
   ]
  },
  {
   "cell_type": "markdown",
   "id": "1a4891f9-e77a-4852-b05e-8a06a7eb8879",
   "metadata": {},
   "source": [
    "## Listing room bookings\n",
    "You can list all room bookings today, or only the bookings for one particular room."
   ]
  },
  {
   "cell_type": "code",
   "execution_count": 3,
   "id": "7c7990f9-784c-4e76-85ac-7c9e88c29f95",
   "metadata": {},
   "outputs": [
    {
     "data": {
      "text/plain": [
       "[RoomBooking 2024-02-02 12:00:00 - 2024-02-02 14:00:00 A03.41 Schladitzer See:  Meeting (Robert Haase),\n",
       " RoomBooking 2024-02-02 14:00:00 - 2024-02-02 15:00:00 A03.41 Schladitzer See:  Another meeting (Robert Haase)]"
      ]
     },
     "execution_count": 3,
     "metadata": {},
     "output_type": "execute_result"
    }
   ],
   "source": [
    "list_room_bookings_today(calendar, \"A03.41\")"
   ]
  },
  {
   "cell_type": "code",
   "execution_count": 4,
   "id": "4e8de9ec-2a16-4cdc-b944-bf7341c6db06",
   "metadata": {},
   "outputs": [
    {
     "data": {
      "text/plain": [
       "[RoomBooking 2024-02-02 12:00:00 - 2024-02-02 14:00:00 A03.41 Schladitzer See:  Meeting (Robert Haase),\n",
       " RoomBooking 2024-02-02 14:00:00 - 2024-02-02 15:00:00 A03.41 Schladitzer See:  Another meeting (Robert Haase)]"
      ]
     },
     "execution_count": 4,
     "metadata": {},
     "output_type": "execute_result"
    }
   ],
   "source": [
    "list_room_bookings_today(calendar, \"A0341\")"
   ]
  },
  {
   "cell_type": "markdown",
   "id": "46a9b53f-1364-448f-8676-b932ac989687",
   "metadata": {},
   "source": [
    "## Listing rooms"
   ]
  },
  {
   "cell_type": "code",
   "execution_count": 5,
   "id": "9ac801a9-fe81-43ef-b76d-713e933afba9",
   "metadata": {},
   "outputs": [
    {
     "data": {
      "text/plain": [
       "['A03.28 Markleeberger See',\n",
       " 'D03.39 Cospudener See',\n",
       " 'A03.06 Living Lab',\n",
       " 'A03.07 Big Seminar Room (Zwenkauer See)',\n",
       " 'A03.21 Kulkwitzer See',\n",
       " 'A03.41 Schladitzer See']"
      ]
     },
     "execution_count": 5,
     "metadata": {},
     "output_type": "execute_result"
    }
   ],
   "source": [
    "list_all_rooms()"
   ]
  },
  {
   "cell_type": "markdown",
   "id": "d0c6ef35-8685-425e-926a-7c67c90f1ca9",
   "metadata": {},
   "source": [
    "## Utility functions\n",
    "There are some utility functions, e.g. for making sure there are no typos in room names, or for retrieving the owner of a room booking from the ICS event."
   ]
  },
  {
   "cell_type": "code",
   "execution_count": 6,
   "id": "b8b33994-0682-46f0-ad12-8fc090ab4570",
   "metadata": {},
   "outputs": [
    {
     "data": {
      "text/plain": [
       "('A03.28 Markleeberger See', 'A03.07 Big Seminar Room (Zwenkauer See)')"
      ]
     },
     "execution_count": 6,
     "metadata": {},
     "output_type": "execute_result"
    }
   ],
   "source": [
    "parse_location(\"\", \"A 0328, Markleeberger See\"),\\\n",
    "parse_location(\"\", \"Big Seminar Room\"),"
   ]
  },
  {
   "cell_type": "code",
   "execution_count": 7,
   "id": "d90f3114-257b-457f-8a42-11ce4c7beaa8",
   "metadata": {},
   "outputs": [
    {
     "data": {
      "text/plain": [
       "('Haase', 'Robert Haase', 'Robert Haase')"
      ]
     },
     "execution_count": 7,
     "metadata": {},
     "output_type": "execute_result"
    }
   ],
   "source": [
    "parse_owner(\"A03.28 Markleeberger See\\, WP6 Zoom Robert Haase\"), \\\n",
    "parse_owner(\"A03.28 Markleeberger See\\, WP6 Zoom (Robert Haase)\"), \\\n",
    "parse_owner(\"A03.28 Markleeberger See\\, WP6 Zoom, Robert Haase\")"
   ]
  },
  {
   "cell_type": "code",
   "execution_count": 8,
   "id": "2c333259-54ed-40b3-8c49-17f8fd9c7b58",
   "metadata": {},
   "outputs": [
    {
     "data": {
      "text/plain": [
       "' WP6 Zoom'"
      ]
     },
     "execution_count": 8,
     "metadata": {},
     "output_type": "execute_result"
    }
   ],
   "source": [
    "parse_description(description=\"A03.28 Markleeberger See\\, WP6 Zoom Robert Haase\", \n",
    "                  owner=\"Robert Haase\", \n",
    "                  room=\"A03.28 Markleeberger See\")"
   ]
  },
  {
   "cell_type": "markdown",
   "id": "4f0734c4-d0e9-4550-9ea6-1b735df202b3",
   "metadata": {},
   "source": [
    "## Book rooms\n",
    "There is a function for creating events. Handle it with care! It will only create the event, if you add the `debug=False` parameter."
   ]
  },
  {
   "cell_type": "code",
   "execution_count": 9,
   "id": "bb73f884-5488-4fe3-a7d7-44e872439bb9",
   "metadata": {},
   "outputs": [
    {
     "data": {
      "text/plain": [
       "[RoomBooking 2024-02-02 12:00:00 - 2024-02-02 14:00:00 A03.41 Schladitzer See:  Meeting (Robert Haase),\n",
       " RoomBooking 2024-02-02 14:00:00 - 2024-02-02 15:00:00 A03.41 Schladitzer See:  Another meeting (Robert Haase)]"
      ]
     },
     "execution_count": 9,
     "metadata": {},
     "output_type": "execute_result"
    }
   ],
   "source": [
    "list_room_bookings_today(calendar, \"A0341\")"
   ]
  },
  {
   "cell_type": "code",
   "execution_count": 10,
   "id": "39c89ea4-2ac1-4677-bbc8-d3ce356810b7",
   "metadata": {},
   "outputs": [],
   "source": [
    "book_room(calendar, \"A03.41\", \"Robert Haase\", \"Another meeting\", datetime(2024, 2, 2, 15, 0), datetime(2024, 2, 2, 16, 0), debug=True)"
   ]
  },
  {
   "cell_type": "code",
   "execution_count": 11,
   "id": "991efe30-82d9-44b7-ac68-e581d26fd7a0",
   "metadata": {},
   "outputs": [
    {
     "data": {
      "text/plain": [
       "[RoomBooking 2024-02-02 12:00:00 - 2024-02-02 14:00:00 A03.41 Schladitzer See:  Meeting (Robert Haase),\n",
       " RoomBooking 2024-02-02 14:00:00 - 2024-02-02 15:00:00 A03.41 Schladitzer See:  Another meeting (Robert Haase),\n",
       " RoomBooking 2024-02-02 15:00:00 - 2024-02-02 16:00:00 A03.41 Schladitzer See:  Another meeting (Robert Haase)]"
      ]
     },
     "execution_count": 11,
     "metadata": {},
     "output_type": "execute_result"
    }
   ],
   "source": [
    "list_room_bookings_today(calendar, \"A03.41\")"
   ]
  },
  {
   "cell_type": "code",
   "execution_count": null,
   "id": "099b3298-fdd5-4784-bc65-cb8260f9686b",
   "metadata": {},
   "outputs": [],
   "source": []
  }
 ],
 "metadata": {
  "kernelspec": {
   "display_name": "Python 3 (ipykernel)",
   "language": "python",
   "name": "python3"
  },
  "language_info": {
   "codemirror_mode": {
    "name": "ipython",
    "version": 3
   },
   "file_extension": ".py",
   "mimetype": "text/x-python",
   "name": "python",
   "nbconvert_exporter": "python",
   "pygments_lexer": "ipython3",
   "version": "3.9.16"
  }
 },
 "nbformat": 4,
 "nbformat_minor": 5
}
