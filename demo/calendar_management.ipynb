{
 "cells": [
  {
   "cell_type": "markdown",
   "id": "1ef1ac1f-037b-4077-b99d-21e7b91dc149",
   "metadata": {},
   "source": [
    "# Room Booking API Demo\n",
    "In this notebook we take a look at the internal (!) API of `scads_room_booking`. With the functions demonstrated here, you can read out which rooms are booked today and you can add new bookings."
   ]
  },
  {
   "cell_type": "code",
   "execution_count": 1,
   "id": "6cbdafb5-ab5d-42e4-a0ff-e16891125411",
   "metadata": {},
   "outputs": [],
   "source": [
    "import caldav\n",
    "from datetime import datetime, timedelta\n",
    "\n",
    "from scadsai_room_booking._utilities import parse_location, parse_owner, parse_description, list_room_bookings_today, book_room\n",
    "from scadsai_room_booking._config import get_calendar, list_all_rooms"
   ]
  },
  {
   "cell_type": "code",
   "execution_count": 2,
   "id": "a2b742e9-7f11-41d3-bd33-25e00c2af806",
   "metadata": {},
   "outputs": [],
   "source": [
    "calendar = get_calendar()"
   ]
  },
  {
   "cell_type": "markdown",
   "id": "1a4891f9-e77a-4852-b05e-8a06a7eb8879",
   "metadata": {},
   "source": [
    "## Listing room bookings\n",
    "You can list all room bookings today, or only the bookings for one particular room."
   ]
  },
  {
   "cell_type": "code",
   "execution_count": 3,
   "id": "7c7990f9-784c-4e76-85ac-7c9e88c29f95",
   "metadata": {},
   "outputs": [
    {
     "data": {
      "text/plain": [
       "[RoomBooking 2024-02-01 12:00:00 - 2024-02-01 12:55:00 A03.28 Markleeberger See: \\, EU-Infratech WP6 Zoom Robert (Haase),\n",
       " RoomBooking 2024-02-01 13:00:00 - 2024-02-01 14:30:00 A03.28 Markleeberger See: A03.28 (collaboration meeting),\n",
       " RoomBooking 2024-02-02 08:00:00 - 2024-02-02 10:00:00 A03.07 Big Seminar Room (Zwenkauer See): Eric: zwenkauer (see),\n",
       " RoomBooking 2024-02-02 09:00:00 - 2024-02-02 10:00:00 D03.39 Cospudener See: D03.39 \"Cospudener (See\"),\n",
       " RoomBooking 2024-02-01 10:00:00 - 2024-02-01 12:30:00 D03.39 Cospudener See: D03.39 (GDA meeting),\n",
       " RoomBooking 2024-02-02 09:00:00 - 2024-02-02 11:00:00 A03.28 Markleeberger See: A03.28 Markkleeberger See \"AI in Math\" (Erika R. R.),\n",
       " RoomBooking 2024-02-01 12:30:00 - 2024-02-01 14:00:00 D03.39 Cospudener See: D03.39 - KMI Team (Meeting)]"
      ]
     },
     "execution_count": 3,
     "metadata": {},
     "output_type": "execute_result"
    }
   ],
   "source": [
    "list_room_bookings_today(calendar, \"\")"
   ]
  },
  {
   "cell_type": "code",
   "execution_count": 4,
   "id": "4e8de9ec-2a16-4cdc-b944-bf7341c6db06",
   "metadata": {},
   "outputs": [
    {
     "data": {
      "text/plain": [
       "[RoomBooking 2024-02-01 12:00:00 - 2024-02-01 12:55:00 A03.28 Markleeberger See: \\, EU-Infratech WP6 Zoom Robert (Haase),\n",
       " RoomBooking 2024-02-01 13:00:00 - 2024-02-01 14:30:00 A03.28 Markleeberger See: A03.28 (collaboration meeting),\n",
       " RoomBooking 2024-02-02 09:00:00 - 2024-02-02 11:00:00 A03.28 Markleeberger See: A03.28 Markkleeberger See \"AI in Math\" (Erika R. R.)]"
      ]
     },
     "execution_count": 4,
     "metadata": {},
     "output_type": "execute_result"
    }
   ],
   "source": [
    "list_room_bookings_today(calendar, \"A03.28\")"
   ]
  },
  {
   "cell_type": "code",
   "execution_count": 5,
   "id": "20b5e9a5-94f8-4c64-bd62-b4b4cba70c3e",
   "metadata": {},
   "outputs": [
    {
     "data": {
      "text/plain": [
       "[RoomBooking 2024-02-01 12:00:00 - 2024-02-01 12:55:00 A03.28 Markleeberger See: \\, EU-Infratech WP6 Zoom Robert (Haase),\n",
       " RoomBooking 2024-02-01 13:00:00 - 2024-02-01 14:30:00 A03.28 Markleeberger See: A03.28 (collaboration meeting),\n",
       " RoomBooking 2024-02-02 09:00:00 - 2024-02-02 11:00:00 A03.28 Markleeberger See: A03.28 Markkleeberger See \"AI in Math\" (Erika R. R.)]"
      ]
     },
     "execution_count": 5,
     "metadata": {},
     "output_type": "execute_result"
    }
   ],
   "source": [
    "list_room_bookings_today(calendar, \"A0328\")"
   ]
  },
  {
   "cell_type": "markdown",
   "id": "46a9b53f-1364-448f-8676-b932ac989687",
   "metadata": {},
   "source": [
    "## Listing rooms"
   ]
  },
  {
   "cell_type": "code",
   "execution_count": 6,
   "id": "9ac801a9-fe81-43ef-b76d-713e933afba9",
   "metadata": {},
   "outputs": [
    {
     "data": {
      "text/plain": [
       "['A03.28 Markleeberger See',\n",
       " 'D03.39 Cospudener See',\n",
       " 'Living Lab',\n",
       " 'A03.07 Big Seminar Room (Zwenkauer See)',\n",
       " 'A03.21 Kulkwitzer See',\n",
       " 'A03.41 Thomas and Robert']"
      ]
     },
     "execution_count": 6,
     "metadata": {},
     "output_type": "execute_result"
    }
   ],
   "source": [
    "list_all_rooms()"
   ]
  },
  {
   "cell_type": "markdown",
   "id": "38a80e6b-4f8a-4f65-9272-c49f41b12a6d",
   "metadata": {},
   "source": [
    "## Low level API\n",
    "We are using [caldav](https://github.com/python-caldav/caldav) under the hood and thus, you can interact with the calendar also using its API."
   ]
  },
  {
   "cell_type": "code",
   "execution_count": 15,
   "id": "b9912a09-b405-405a-91bd-49c3f5c18de8",
   "metadata": {},
   "outputs": [
    {
     "data": {
      "text/plain": [
       "['BEGIN:VCALENDAR\\nVERSION:2.0\\nPRODID:-//Sabre//Sabre VObject 4.4.2//EN\\nCALSCALE:GREGORIAN\\nBEGIN:VEVENT\\nSUMMARY:A03.28 Markleeberger See\\\\, EU-Infratech WP6 Zoom Robert Haase\\nDTSTART:20240201T120000Z\\nDTEND:20240201T125500Z\\nDTSTAMP:20240131T134206Z\\nUID:d3d5bf06-60c6-4906-90ba-94bb1e7b10fe\\nSEQUENCE:2\\nCREATED:20240131T134110Z\\nDESCRIPTION:EU-Infratech WP6 \\\\nZoom Robert Haase\\nLAST-MODIFIED:20240131T134206Z\\nLOCATION:A03.28 Markleeberger See\\nSTATUS:CONFIRMED\\nEND:VEVENT\\nEND:VCALENDAR\\n',\n",
       " 'BEGIN:VCALENDAR\\nVERSION:2.0\\nPRODID:-//Sabre//Sabre VObject 4.4.2//EN\\nCALSCALE:GREGORIAN\\nBEGIN:VEVENT\\nSUMMARY:A03.28 (collaboration meeting)\\nDTSTART:20240201T130000Z\\nDTEND:20240201T143000Z\\nDTSTAMP:20240201T093933Z\\nUID:f512af87-c588-49a1-a586-f4ee8852954d\\nSEQUENCE:2\\nCREATED:20240201T093815Z\\nDESCRIPTION:Organization: Marzieh\\nLAST-MODIFIED:20240201T093933Z\\nSTATUS:CONFIRMED\\nEND:VEVENT\\nEND:VCALENDAR\\n',\n",
       " 'BEGIN:VCALENDAR\\nVERSION:2.0\\nPRODID:-//Sabre//Sabre VObject 4.4.2//EN\\nCALSCALE:GREGORIAN\\nBEGIN:VEVENT\\nSUMMARY:Eric: zwenkauer see\\nDTSTART:20240202T080000Z\\nDTEND:20240202T100000Z\\nDTSTAMP:20240126T175922Z\\nUID:4A697F37-46DE-4431-8E73-9327F4D22C6D\\nSEQUENCE:1\\nCREATED:20240126T175905Z\\nLAST-MODIFIED:20240126T175921Z\\nTRANSP:OPAQUE\\nBEGIN:VALARM\\nACTION:NONE\\nTRIGGER;VALUE=DATE-TIME:19760401T005545Z\\nEND:VALARM\\nEND:VEVENT\\nEND:VCALENDAR\\n',\n",
       " 'BEGIN:VCALENDAR\\nVERSION:2.0\\nPRODID:-//Sabre//Sabre VObject 4.4.2//EN\\nCALSCALE:GREGORIAN\\nBEGIN:VEVENT\\nSUMMARY:D03.39 \"Cospudener See\"\\nDTSTART:20240202T090000Z\\nDTEND:20240202T100000Z\\nDTSTAMP:20240104T114334Z\\nUID:03e01bd5-5940-4246-9ee4-c5852043afe8\\nRECURRENCE-ID:20240202T090000Z\\nSEQUENCE:0\\nCREATED:20240104T114334Z\\nDESCRIPTION:Bachelor/Master-Seminar\\\\nContact: Erik Buchman\\nLAST-MODIFIED:20240104T114334Z\\nLOCATION:D03.39 \"Cospudener See\"\\nRELATED-TO;RELTYPE=SIBLING:e452fcf2-364c-4310-9caa-485ed665ae5d\\nSTATUS:CONFIRMED\\nEND:VEVENT\\nEND:VCALENDAR\\n',\n",
       " 'BEGIN:VCALENDAR\\nVERSION:2.0\\nPRODID:-//Sabre//Sabre VObject 4.4.2//EN\\nCALSCALE:GREGORIAN\\nBEGIN:VEVENT\\nSUMMARY:D03.39 (GDA meeting)\\nDTSTART:20240201T100000Z\\nDTEND:20240201T123000Z\\nDTSTAMP:20240201T081158Z\\nUID:1a21df7e-4b1f-437e-bf17-a2155293d3c2\\nSEQUENCE:4\\nCREATED:20240131T155345Z\\nDESCRIPTION:Organized by:\\\\nFatemeh\\nLAST-MODIFIED:20240201T081158Z\\nLOCATION:Cospudener see\\nSTATUS:CONFIRMED\\nEND:VEVENT\\nEND:VCALENDAR\\n',\n",
       " 'BEGIN:VCALENDAR\\nVERSION:2.0\\nPRODID:-//Sabre//Sabre VObject 4.4.2//EN\\nCALSCALE:GREGORIAN\\nBEGIN:VEVENT\\nSUMMARY:A03.28 Markkleeberger See \"AI in Math\" (Erika R. R.)\\nDTSTART:20240202T090000Z\\nDTEND:20240202T110000Z\\nDTSTAMP:20231024T080558Z\\nUID:7dac956b-44ee-430d-9916-fe8b9e0544ba\\nRECURRENCE-ID:20240202T090000Z\\nSEQUENCE:5\\nCREATED:20231024T080227Z\\nDESCRIPTION:Erika Roldan Roa\\\\, weekly AI meeting with group (pls ask Katja\\n  Kirsche for details if needed)\\nLAST-MODIFIED:20231024T080558Z\\nLOCATION:A03.28 Markkleeberger\\nSTATUS:CONFIRMED\\nEND:VEVENT\\nEND:VCALENDAR\\n',\n",
       " 'BEGIN:VCALENDAR\\nVERSION:2.0\\nPRODID:-//Sabre//Sabre VObject 4.4.2//EN\\nCALSCALE:GREGORIAN\\nBEGIN:VEVENT\\nSUMMARY:D03.39 - KMI Team Meeting\\nDTSTART:20240201T123000Z\\nDTEND:20240201T140000Z\\nDTSTAMP:20240125T124005Z\\nUID:BC72F3EC-3014-4611-A770-4EECE533C526\\nSEQUENCE:4\\nCREATED:20240108T073511Z\\nDESCRIPTION:Team meeting for KMI project\\\\nContact: Matthias Täschner\\nLAST-MODIFIED:20240125T124005Z\\nLOCATION:D03.39 \"Cospudener See\"\\nTRANSP:OPAQUE\\nX-APPLE-CREATOR-IDENTITY:com.apple.calendar\\nX-APPLE-CREATOR-TEAM-IDENTITY:0000000000\\nEND:VEVENT\\nEND:VCALENDAR\\n',\n",
       " 'BEGIN:VCALENDAR\\nVERSION:2.0\\nPRODID:-//Sabre//Sabre VObject 4.4.2//EN\\nCALSCALE:GREGORIAN\\nBEGIN:VEVENT\\nSUMMARY:A03.41 Thomas and Robert\\\\, Meeting (Robert Haase)\\nDTSTART:20240201T120000Z\\nDTEND:20240201T140000Z\\nDTSTAMP:20240201T101407Z\\nUID:a1b370cc-c0ea-11ee-9afb-b48c9da4431c\\nDESCRIPTION:Meeting\\nLOCATION:A03.41 Thomas and Robert\\nSTATUS:CONFIRMED\\nEND:VEVENT\\nEND:VCALENDAR\\n']"
      ]
     },
     "execution_count": 15,
     "metadata": {},
     "output_type": "execute_result"
    }
   ],
   "source": [
    "events = calendar.date_search(start=datetime.today(), end=datetime.today() +  timedelta(days=1))\n",
    "[e.data for e in events]"
   ]
  },
  {
   "cell_type": "code",
   "execution_count": 8,
   "id": "fcd75840-6d78-45cc-b844-b97810110346",
   "metadata": {},
   "outputs": [
    {
     "data": {
      "text/plain": [
       "'BEGIN:VCALENDAR\\nVERSION:2.0\\nPRODID:-//Sabre//Sabre VObject 4.4.2//EN\\nCALSCALE:GREGORIAN\\nBEGIN:VEVENT\\nSUMMARY:A03.28 Markleeberger See\\\\, EU-Infratech WP6 Zoom Robert Haase\\nDTSTART:20240201T120000Z\\nDTEND:20240201T125500Z\\nDTSTAMP:20240131T134206Z\\nUID:d3d5bf06-60c6-4906-90ba-94bb1e7b10fe\\nSEQUENCE:2\\nCREATED:20240131T134110Z\\nDESCRIPTION:EU-Infratech WP6 \\\\nZoom Robert Haase\\nLAST-MODIFIED:20240131T134206Z\\nLOCATION:A03.28 Markleeberger See\\nSTATUS:CONFIRMED\\nEND:VEVENT\\nEND:VCALENDAR\\n'"
      ]
     },
     "execution_count": 8,
     "metadata": {},
     "output_type": "execute_result"
    }
   ],
   "source": [
    "events[0].data"
   ]
  },
  {
   "cell_type": "markdown",
   "id": "d0c6ef35-8685-425e-926a-7c67c90f1ca9",
   "metadata": {},
   "source": [
    "## Utility functions\n",
    "There are some utility functions, e.g. for making sure there are no typos in room names, or for retrieving the owner of a room booking from the ICS event."
   ]
  },
  {
   "cell_type": "code",
   "execution_count": 9,
   "id": "b8b33994-0682-46f0-ad12-8fc090ab4570",
   "metadata": {},
   "outputs": [
    {
     "data": {
      "text/plain": [
       "('A03.28 Markleeberger See', 'A03.07 Big Seminar Room (Zwenkauer See)')"
      ]
     },
     "execution_count": 9,
     "metadata": {},
     "output_type": "execute_result"
    }
   ],
   "source": [
    "parse_location(\"\", \"A 0328, Markleeberger See\"),\\\n",
    "parse_location(\"\", \"Big Seminar Room\"),"
   ]
  },
  {
   "cell_type": "code",
   "execution_count": 10,
   "id": "d90f3114-257b-457f-8a42-11ce4c7beaa8",
   "metadata": {},
   "outputs": [
    {
     "data": {
      "text/plain": [
       "('Haase', 'Robert Haase', 'Robert Haase')"
      ]
     },
     "execution_count": 10,
     "metadata": {},
     "output_type": "execute_result"
    }
   ],
   "source": [
    "parse_owner(\"A03.28 Markleeberger See\\, EU-Infratech WP6 Zoom Robert Haase\"), \\\n",
    "parse_owner(\"A03.28 Markleeberger See\\, EU-Infratech WP6 Zoom (Robert Haase)\"), \\\n",
    "parse_owner(\"A03.28 Markleeberger See\\, EU-Infratech WP6 Zoom, Robert Haase\")"
   ]
  },
  {
   "cell_type": "code",
   "execution_count": 11,
   "id": "2c333259-54ed-40b3-8c49-17f8fd9c7b58",
   "metadata": {},
   "outputs": [
    {
     "data": {
      "text/plain": [
       "'\\\\, EU-Infratech WP6 Zoom'"
      ]
     },
     "execution_count": 11,
     "metadata": {},
     "output_type": "execute_result"
    }
   ],
   "source": [
    "parse_description(description=\"A03.28 Markleeberger See\\, EU-Infratech WP6 Zoom Robert Haase\", \n",
    "                  owner=\"Robert Haase\", \n",
    "                  room=\"A03.28 Markleeberger See\")"
   ]
  },
  {
   "cell_type": "markdown",
   "id": "4f0734c4-d0e9-4550-9ea6-1b735df202b3",
   "metadata": {},
   "source": [
    "## Book rooms\n",
    "There is a function for creating events. Handle it with care! It will only create the event, if you add the `debug=False` parameter."
   ]
  },
  {
   "cell_type": "code",
   "execution_count": 12,
   "id": "bb73f884-5488-4fe3-a7d7-44e872439bb9",
   "metadata": {},
   "outputs": [
    {
     "data": {
      "text/plain": [
       "[]"
      ]
     },
     "execution_count": 12,
     "metadata": {},
     "output_type": "execute_result"
    }
   ],
   "source": [
    "list_room_bookings_today(calendar, \"A0341\")"
   ]
  },
  {
   "cell_type": "code",
   "execution_count": 13,
   "id": "39c89ea4-2ac1-4677-bbc8-d3ce356810b7",
   "metadata": {},
   "outputs": [],
   "source": [
    "book_room(calendar, \"A03.41\", \"Robert Haase\", \"Meeting\", datetime(2024, 2, 1, 12, 0), datetime(2024, 2, 1, 14, 0), debug=True)"
   ]
  },
  {
   "cell_type": "code",
   "execution_count": 14,
   "id": "991efe30-82d9-44b7-ac68-e581d26fd7a0",
   "metadata": {},
   "outputs": [
    {
     "data": {
      "text/plain": [
       "[RoomBooking 2024-02-01 12:00:00 - 2024-02-01 14:00:00 A03.41 Thomas and Robert: \\, Meeting (Robert Haase)]"
      ]
     },
     "execution_count": 14,
     "metadata": {},
     "output_type": "execute_result"
    }
   ],
   "source": [
    "list_room_bookings_today(calendar, \"A03.41\")"
   ]
  },
  {
   "cell_type": "code",
   "execution_count": null,
   "id": "099b3298-fdd5-4784-bc65-cb8260f9686b",
   "metadata": {},
   "outputs": [],
   "source": []
  }
 ],
 "metadata": {
  "kernelspec": {
   "display_name": "Python 3 (ipykernel)",
   "language": "python",
   "name": "python3"
  },
  "language_info": {
   "codemirror_mode": {
    "name": "ipython",
    "version": 3
   },
   "file_extension": ".py",
   "mimetype": "text/x-python",
   "name": "python",
   "nbconvert_exporter": "python",
   "pygments_lexer": "ipython3",
   "version": "3.9.16"
  }
 },
 "nbformat": 4,
 "nbformat_minor": 5
}
